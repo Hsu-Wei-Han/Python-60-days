{
  "nbformat": 4,
  "nbformat_minor": 0,
  "metadata": {
    "colab": {
      "name": "Day1作業.ipynb",
      "provenance": [],
      "collapsed_sections": [],
      "include_colab_link": true
    },
    "kernelspec": {
      "name": "python3",
      "display_name": "Python 3"
    }
  },
  "cells": [
    {
      "cell_type": "markdown",
      "metadata": {
        "id": "view-in-github",
        "colab_type": "text"
      },
      "source": [
        "<a href=\"https://colab.research.google.com/github/Hsu-Wei-Han/Python-60-days/blob/main/Day1%E4%BD%9C%E6%A5%AD.ipynb\" target=\"_parent\"><img src=\"https://colab.research.google.com/assets/colab-badge.svg\" alt=\"Open In Colab\"/></a>"
      ]
    },
    {
      "cell_type": "markdown",
      "metadata": {
        "id": "5aWZnhxBD2p2"
      },
      "source": [
        "作業目標:<br>\r\n",
        "在array中，可以靈活應用索引幫助資料擷取<br>\r\n",
        "作業重點:<br>\r\n",
        "陣列的索引、切片、以及屬性，皆需要注意使用方式<br>\r\n",
        "陣列之中索引式由0開始請同學注意"
      ]
    },
    {
      "cell_type": "markdown",
      "metadata": {
        "id": "Ec7jpEEnD4rj"
      },
      "source": [
        "題目:<br>\r\n",
        "1.生成一個等差數列，首數為0，尾數為20，公差為1的數列。<br>\r\n",
        "2.呈上題，將以上數列取出偶數。<br>\r\n",
        "3.呈1題，將數列取出3的倍數。<br>"
      ]
    },
    {
      "cell_type": "code",
      "metadata": {
        "id": "NfVTcwauD3rg"
      },
      "source": [
        "import numpy as np"
      ],
      "execution_count": 2,
      "outputs": []
    },
    {
      "cell_type": "code",
      "metadata": {
        "id": "QrOaxfmeEpvo",
        "colab": {
          "base_uri": "https://localhost:8080/"
        },
        "outputId": "1499c89f-cbf6-4075-e5c7-6eea5f958c03"
      },
      "source": [
        "#1.生成一個等差數列，首數為0，尾數為20，公差為1的數列。\r\n",
        "np.arange(0, 21, 1)"
      ],
      "execution_count": 4,
      "outputs": [
        {
          "output_type": "execute_result",
          "data": {
            "text/plain": [
              "array([ 0,  1,  2,  3,  4,  5,  6,  7,  8,  9, 10, 11, 12, 13, 14, 15, 16,\n",
              "       17, 18, 19, 20])"
            ]
          },
          "metadata": {
            "tags": []
          },
          "execution_count": 4
        }
      ]
    },
    {
      "cell_type": "code",
      "metadata": {
        "id": "5FFeFSvoEtRP",
        "colab": {
          "base_uri": "https://localhost:8080/"
        },
        "outputId": "9f063e9e-d9c7-4809-d24c-b1ba12034ee5"
      },
      "source": [
        "#2.呈上題，將以上數列取出偶數。\r\n",
        "np.arange(0, 21, 2)"
      ],
      "execution_count": 5,
      "outputs": [
        {
          "output_type": "execute_result",
          "data": {
            "text/plain": [
              "array([ 0,  2,  4,  6,  8, 10, 12, 14, 16, 18, 20])"
            ]
          },
          "metadata": {
            "tags": []
          },
          "execution_count": 5
        }
      ]
    },
    {
      "cell_type": "code",
      "metadata": {
        "id": "7-HcNGFsFD-_",
        "colab": {
          "base_uri": "https://localhost:8080/"
        },
        "outputId": "a948e7b2-356e-4b93-a888-661b0b0e4f7c"
      },
      "source": [
        "#3.呈1題，將數列取出3的倍數。\r\n",
        "np.arange(3, 21, 3)"
      ],
      "execution_count": 12,
      "outputs": [
        {
          "output_type": "execute_result",
          "data": {
            "text/plain": [
              "array([ 3,  6,  9, 12, 15, 18])"
            ]
          },
          "metadata": {
            "tags": []
          },
          "execution_count": 12
        }
      ]
    },
    {
      "cell_type": "code",
      "metadata": {
        "id": "6_6Emob-FHn3"
      },
      "source": [
        ""
      ],
      "execution_count": null,
      "outputs": []
    },
    {
      "cell_type": "markdown",
      "metadata": {
        "id": "LRGRVBkfkNj6"
      },
      "source": [
        ""
      ]
    }
  ]
}